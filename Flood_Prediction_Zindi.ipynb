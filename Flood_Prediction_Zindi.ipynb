{
  "nbformat": 4,
  "nbformat_minor": 0,
  "metadata": {
    "colab": {
      "name": "Untitled8.ipynb",
      "provenance": [],
      "collapsed_sections": [],
      "authorship_tag": "ABX9TyO7hP3IwfvND0RSrdGbUlzU",
      "include_colab_link": true
    },
    "kernelspec": {
      "name": "ir",
      "display_name": "R"
    }
  },
  "cells": [
    {
      "cell_type": "markdown",
      "metadata": {
        "id": "view-in-github",
        "colab_type": "text"
      },
      "source": [
        "<a href=\"https://colab.research.google.com/github/Edimer/Pruebas/blob/master/Flood_Prediction_Zindi.ipynb\" target=\"_parent\"><img src=\"https://colab.research.google.com/assets/colab-badge.svg\" alt=\"Open In Colab\"/></a>"
      ]
    },
    {
      "cell_type": "code",
      "metadata": {
        "id": "HHQnKa3OvqEJ",
        "colab_type": "code",
        "outputId": "d28ce9b1-ec4a-45dd-ef51-eeb355d93668",
        "colab": {
          "base_uri": "https://localhost:8080/",
          "height": 139
        }
      },
      "source": [
        "install.packages(\"h2o\", dependencies = TRUE)"
      ],
      "execution_count": 3,
      "outputs": [
        {
          "output_type": "stream",
          "text": [
            "Installing package into ‘/usr/local/lib/R/site-library’\n",
            "(as ‘lib’ is unspecified)\n",
            "\n",
            "also installing the dependencies ‘httpuv’, ‘xtable’, ‘sourcetools’, ‘fastmap’, ‘miniUI’, ‘webshot’, ‘misc3d’, ‘bitops’, ‘bit’, ‘shiny’, ‘manipulateWidget’, ‘plot3D’, ‘RCurl’, ‘mlbench’, ‘slam’, ‘bit64’, ‘data.table’, ‘rgl’, ‘plot3Drgl’\n",
            "\n",
            "\n"
          ],
          "name": "stderr"
        }
      ]
    },
    {
      "cell_type": "code",
      "metadata": {
        "id": "q0TA66cmxrXx",
        "colab_type": "code",
        "colab": {}
      },
      "source": [
        "# Cargando datos\n",
        "load(\"/Datos_Test2019.Rdata\")\n",
        "load(\"/Datos_Train2015.Rdata\")"
      ],
      "execution_count": 0,
      "outputs": []
    },
    {
      "cell_type": "code",
      "metadata": {
        "id": "lQ_RVAHUyeem",
        "colab_type": "code",
        "outputId": "83cca3e8-2b14-4762-bb36-cc2474585db5",
        "colab": {
          "base_uri": "https://localhost:8080/",
          "height": 204
        }
      },
      "source": [
        "library(tidyverse)"
      ],
      "execution_count": 0,
      "outputs": [
        {
          "output_type": "stream",
          "text": [
            "── \u001b[1mAttaching packages\u001b[22m ─────────────────────────────────────── tidyverse 1.3.0 ──\n",
            "\n",
            "\u001b[32m✔\u001b[39m \u001b[34mggplot2\u001b[39m 3.3.0     \u001b[32m✔\u001b[39m \u001b[34mpurrr  \u001b[39m 0.3.3\n",
            "\u001b[32m✔\u001b[39m \u001b[34mtibble \u001b[39m 3.0.0     \u001b[32m✔\u001b[39m \u001b[34mdplyr  \u001b[39m 0.8.5\n",
            "\u001b[32m✔\u001b[39m \u001b[34mtidyr  \u001b[39m 1.0.2     \u001b[32m✔\u001b[39m \u001b[34mstringr\u001b[39m 1.4.0\n",
            "\u001b[32m✔\u001b[39m \u001b[34mreadr  \u001b[39m 1.3.1     \u001b[32m✔\u001b[39m \u001b[34mforcats\u001b[39m 0.5.0\n",
            "\n",
            "── \u001b[1mConflicts\u001b[22m ────────────────────────────────────────── tidyverse_conflicts() ──\n",
            "\u001b[31m✖\u001b[39m \u001b[34mdplyr\u001b[39m::\u001b[32mfilter()\u001b[39m masks \u001b[34mstats\u001b[39m::filter()\n",
            "\u001b[31m✖\u001b[39m \u001b[34mdplyr\u001b[39m::\u001b[32mlag()\u001b[39m    masks \u001b[34mstats\u001b[39m::lag()\n",
            "\n"
          ],
          "name": "stderr"
        }
      ]
    },
    {
      "cell_type": "code",
      "metadata": {
        "id": "ygxV5Zpeyhil",
        "colab_type": "code",
        "outputId": "be76e5a9-070f-4758-f0cf-6b347ba4b234",
        "colab": {
          "base_uri": "https://localhost:8080/",
          "height": 527
        }
      },
      "source": [
        "# Cargando  e iniciando h2o\n",
        "library(h2o)\n",
        "h2o.init(nthreads = -1, port = 54321, max_mem_size = \"10g\")\n",
        "\n",
        "# Train y Test h2o\n",
        "df_train <- df_train_2015 %>% \n",
        "  select(-Square_ID)\n",
        "\n",
        "# Datos h2o\n",
        "datos_h2o <- as.h2o(x = df_train, destination_frame = \"datos_h2o\")\n",
        "\n",
        "particiones <- h2o.splitFrame(data = datos_h2o, ratios = c(0.7, 0.10),\n",
        "                              seed = 123)\n",
        "datos_train_h2o <- h2o.assign(data = particiones[[1]], key = \"datos_train_H2O\")\n",
        "datos_val_h2o   <- h2o.assign(data = particiones[[2]], key = \"datos_val_H2O\")\n",
        "datos_test_h2o  <- h2o.assign(data = particiones[[3]], key = \"datos_test_H2O\")\n",
        "\n",
        "# Se define la variable respuesta y los predictores.\n",
        "var_respuesta <- \"target_2015\"\n",
        "\n",
        "# Para este modelo se emplean todos los predictores disponibles.\n",
        "predictores   <- setdiff(h2o.colnames(datos_train_h2o), var_respuesta)"
      ],
      "execution_count": 0,
      "outputs": [
        {
          "output_type": "stream",
          "text": [
            "\n",
            "H2O is not running yet, starting it now...\n",
            "\n",
            "Note:  In case of errors look at the following log files:\n",
            "    /tmp/RtmpibhVbJ/file7d745ef74a/h2o_UnknownUser_started_from_r.out\n",
            "    /tmp/RtmpibhVbJ/file7d76999b6e/h2o_UnknownUser_started_from_r.err\n",
            "\n",
            "\n",
            "Starting H2O JVM and connecting: .. Connection successful!\n",
            "\n",
            "R is connected to the H2O cluster: \n",
            "    H2O cluster uptime:         2 seconds 743 milliseconds \n",
            "    H2O cluster timezone:       Etc/UTC \n",
            "    H2O data parsing timezone:  UTC \n",
            "    H2O cluster version:        3.30.0.1 \n",
            "    H2O cluster version age:    6 days  \n",
            "    H2O cluster name:           H2O_started_from_R_root_pcl675 \n",
            "    H2O cluster total nodes:    1 \n",
            "    H2O cluster total memory:   10.00 GB \n",
            "    H2O cluster total cores:    2 \n",
            "    H2O cluster allowed cores:  2 \n",
            "    H2O cluster healthy:        TRUE \n",
            "    H2O Connection ip:          localhost \n",
            "    H2O Connection port:        54321 \n",
            "    H2O Connection proxy:       NA \n",
            "    H2O Internal Security:      FALSE \n",
            "    H2O API Extensions:         Amazon S3, XGBoost, Algos, AutoML, Core V3, TargetEncoder, Core V4 \n",
            "    R Version:                  R version 3.6.3 (2020-02-29) \n",
            "\n",
            "  |======================================================================| 100%\n"
          ],
          "name": "stdout"
        }
      ]
    },
    {
      "cell_type": "code",
      "metadata": {
        "id": "FmRxf6wTylPe",
        "colab_type": "code",
        "colab": {}
      },
      "source": [
        ""
      ],
      "execution_count": 0,
      "outputs": []
    },
    {
      "cell_type": "markdown",
      "metadata": {
        "id": "-Dc0VILRymHd",
        "colab_type": "text"
      },
      "source": [
        "# Modelo XGBoost"
      ]
    },
    {
      "cell_type": "code",
      "metadata": {
        "id": "OuvJz7zwypY3",
        "colab_type": "code",
        "outputId": "848ca241-afe0-4ed4-dc78-43fce736ed80",
        "colab": {
          "base_uri": "https://localhost:8080/",
          "height": 34
        }
      },
      "source": [
        "xgb <- h2o.xgboost(x = predictores\n",
        "                  ,y = var_respuesta\n",
        "                  ,training_frame = datos_train_h2o\n",
        "                  ,validation_frame = datos_val_h2o\n",
        "                  ,model_id = \"xgb_model_1\"\n",
        "                  ,stopping_rounds = 3\n",
        "                  ,stopping_metric = \"RMSE\"\n",
        "                  ,distribution = \"poisson\"\n",
        "                  ,score_tree_interval = 1\n",
        "                  ,learn_rate=0.05\n",
        "                  ,ntrees=500\n",
        "                  ,subsample = 0.75\n",
        "                  ,colsample_bytree = 0.75\n",
        "                  ,tree_method = \"hist\"\n",
        "                  ,grow_policy = \"lossguide\"\n",
        "                  ,booster = \"gbtree\"\n",
        "                  ,gamma = 0.0\n",
        "                  ,max_runtime_secs = 3600\n",
        "                  ,nfolds = 10\n",
        "                  ,seed = 123\n",
        "                  )"
      ],
      "execution_count": 0,
      "outputs": [
        {
          "output_type": "stream",
          "text": [
            "  |======================================================================| 100%\n"
          ],
          "name": "stdout"
        }
      ]
    },
    {
      "cell_type": "code",
      "metadata": {
        "id": "Sv39gpxh1SNa",
        "colab_type": "code",
        "outputId": "6af441a8-8fba-4df7-de76-d2056e0fa7f6",
        "colab": {
          "base_uri": "https://localhost:8080/",
          "height": 1000
        }
      },
      "source": [
        "# Resultados del modelo\n",
        "xgb"
      ],
      "execution_count": 0,
      "outputs": [
        {
          "output_type": "display_data",
          "data": {
            "text/plain": [
              "Model Details:\n",
              "==============\n",
              "\n",
              "H2ORegressionModel: xgboost\n",
              "Model ID:  xgb_model_1 \n",
              "Model Summary: \n",
              "  number_of_trees\n",
              "1             102\n",
              "\n",
              "\n",
              "H2ORegressionMetrics: xgboost\n",
              "** Reported on training data. **\n",
              "\n",
              "MSE:  0.01007705\n",
              "RMSE:  0.1003845\n",
              "MAE:  0.04591141\n",
              "RMSLE:  0.07370958\n",
              "Mean Residual Deviance :  0.284296\n",
              "\n",
              "\n",
              "H2ORegressionMetrics: xgboost\n",
              "** Reported on validation data. **\n",
              "\n",
              "MSE:  0.01223584\n",
              "RMSE:  0.1106157\n",
              "MAE:  0.05002383\n",
              "RMSLE:  0.08085365\n",
              "Mean Residual Deviance :  0.3124366\n",
              "\n",
              "\n",
              "H2ORegressionMetrics: xgboost\n",
              "** Reported on cross-validation data. **\n",
              "** 10-fold cross-validation on training data (Metrics computed for combined holdout predictions) **\n",
              "\n",
              "MSE:  0.01251186\n",
              "RMSE:  0.1118564\n",
              "MAE:  0.0513965\n",
              "RMSLE:  0.08202745\n",
              "Mean Residual Deviance :  0.2984159\n",
              "\n",
              "\n",
              "Cross-Validation Metrics Summary: \n",
              "                              mean           sd  cv_1_valid  cv_2_valid\n",
              "mae                    0.051419634  0.006227791 0.058929745  0.04525839\n",
              "mean_residual_deviance   0.2985007  0.029547436  0.34279323  0.27829406\n",
              "mse                    0.012526023 0.0016460334 0.014637913 0.010948499\n",
              "r2                       0.7627592   0.02373155   0.7424278  0.79144007\n",
              "residual_deviance        0.2985007  0.029547436  0.34279323  0.27829406\n",
              "rmse                   0.111709684 0.0072242464 0.120987244 0.104635075\n",
              "rmsle                   0.08197028  0.004311433  0.08826101 0.077939495\n",
              "                        cv_3_valid   cv_4_valid  cv_5_valid  cv_6_valid\n",
              "mae                    0.043652445   0.06011059  0.05107661  0.05610336\n",
              "mean_residual_deviance  0.29154754   0.33500034  0.30235243  0.29875147\n",
              "mse                    0.011181199 0.0136588095 0.012677504 0.012382935\n",
              "r2                       0.8071753    0.7836044   0.7589602  0.75106597\n",
              "residual_deviance       0.29154754   0.33500034  0.30235243  0.29875147\n",
              "rmse                    0.10574119   0.11687091  0.11259442  0.11127863\n",
              "rmsle                   0.07713553  0.083896466  0.08447191  0.08260317\n",
              "                        cv_7_valid  cv_8_valid  cv_9_valid cv_10_valid\n",
              "mae                    0.057362262 0.044801347 0.048599478 0.048302107\n",
              "mean_residual_deviance  0.33253875  0.25994763  0.27581054  0.26797068\n",
              "mse                    0.015616624 0.010768624 0.011322296 0.012065833\n",
              "r2                        0.750096  0.75679976   0.7307962   0.7552264\n",
              "residual_deviance       0.33253875  0.25994763  0.27581054  0.26797068\n",
              "rmse                    0.12496649 0.103771985  0.10640628  0.10984459\n",
              "rmsle                   0.08829356   0.0763774  0.08116703  0.07955727"
            ]
          },
          "metadata": {
            "tags": []
          }
        }
      ]
    },
    {
      "cell_type": "code",
      "metadata": {
        "id": "iqFcO9GU1DCF",
        "colab_type": "code",
        "outputId": "837b1af1-5b94-46a2-a90b-4f6df012a864",
        "colab": {
          "base_uri": "https://localhost:8080/",
          "height": 51
        }
      },
      "source": [
        "predichos_train <- h2o.predict(xgb, datos_train_h2o) %>%\n",
        "  as.data.frame() %>% pull(predict)\n",
        "head(predichos_train)"
      ],
      "execution_count": 0,
      "outputs": [
        {
          "output_type": "stream",
          "text": [
            "  |======================================================================| 100%\n"
          ],
          "name": "stdout"
        },
        {
          "output_type": "display_data",
          "data": {
            "text/plain": [
              "[1] 0.008418034 0.009025149 0.016433995 0.011622294 0.012025811 0.013393223"
            ],
            "text/latex": "\\begin{enumerate*}\n\\item 0.00841803383082151\n\\item 0.00902514904737473\n\\item 0.0164339952170849\n\\item 0.0116222938522696\n\\item 0.012025810778141\n\\item 0.013393223285675\n\\end{enumerate*}\n",
            "text/markdown": "1. 0.00841803383082151\n2. 0.00902514904737473\n3. 0.0164339952170849\n4. 0.0116222938522696\n5. 0.012025810778141\n6. 0.013393223285675\n\n\n",
            "text/html": [
              "<style>\n",
              ".list-inline {list-style: none; margin:0; padding: 0}\n",
              ".list-inline>li {display: inline-block}\n",
              ".list-inline>li:not(:last-child)::after {content: \"\\00b7\"; padding: 0 .5ex}\n",
              "</style>\n",
              "<ol class=list-inline><li>0.00841803383082151</li><li>0.00902514904737473</li><li>0.0164339952170849</li><li>0.0116222938522696</li><li>0.012025810778141</li><li>0.013393223285675</li></ol>\n"
            ]
          },
          "metadata": {
            "tags": []
          }
        }
      ]
    },
    {
      "cell_type": "code",
      "metadata": {
        "id": "boWqsN6L1JgC",
        "colab_type": "code",
        "outputId": "8823ab6d-7fb1-4a0c-ed25-97ba69725039",
        "colab": {
          "base_uri": "https://localhost:8080/",
          "height": 437
        }
      },
      "source": [
        "hist(predichos_train)"
      ],
      "execution_count": 0,
      "outputs": [
        {
          "output_type": "display_data",
          "data": {
            "image/png": "[encoded data removed]",
            "text/plain": [
              "Plot with title “Histogram of predichos_train”"
            ]
          },
          "metadata": {
            "tags": [],
            "image/png": {
              "width": 420,
              "height": 420
            },
            "text/plain": {
              "width": 420,
              "height": 420
            }
          }
        }
      ]
    },
    {
      "cell_type": "code",
      "metadata": {
        "id": "Yf7askKM1OG6",
        "colab_type": "code",
        "outputId": "eb738a5f-2a58-492e-b526-40a0de06ac11",
        "colab": {
          "base_uri": "https://localhost:8080/",
          "height": 51
        }
      },
      "source": [
        "predichos_test <- h2o.predict(xgb, datos_test_h2o) %>%\n",
        "  as.data.frame() %>% pull(predict)\n",
        "head(predichos_test)"
      ],
      "execution_count": 0,
      "outputs": [
        {
          "output_type": "stream",
          "text": [
            "  |======================================================================| 100%\n"
          ],
          "name": "stdout"
        },
        {
          "output_type": "display_data",
          "data": {
            "text/plain": [
              "[1] 0.013084592 0.008556398 0.012025811 0.011684702 0.014163950 0.012554765"
            ],
            "text/latex": "\\begin{enumerate*}\n\\item 0.0130845922976732\n\\item 0.00855639763176441\n\\item 0.012025810778141\n\\item 0.0116847017779946\n\\item 0.0141639495268464\n\\item 0.0125547647476196\n\\end{enumerate*}\n",
            "text/markdown": "1. 0.0130845922976732\n2. 0.00855639763176441\n3. 0.012025810778141\n4. 0.0116847017779946\n5. 0.0141639495268464\n6. 0.0125547647476196\n\n\n",
            "text/html": [
              "<style>\n",
              ".list-inline {list-style: none; margin:0; padding: 0}\n",
              ".list-inline>li {display: inline-block}\n",
              ".list-inline>li:not(:last-child)::after {content: \"\\00b7\"; padding: 0 .5ex}\n",
              "</style>\n",
              "<ol class=list-inline><li>0.0130845922976732</li><li>0.00855639763176441</li><li>0.012025810778141</li><li>0.0116847017779946</li><li>0.0141639495268464</li><li>0.0125547647476196</li></ol>\n"
            ]
          },
          "metadata": {
            "tags": []
          }
        }
      ]
    },
    {
      "cell_type": "code",
      "metadata": {
        "id": "tEVlveVZ1eVr",
        "colab_type": "code",
        "outputId": "95158bab-ff45-4d89-adb2-211f39552919",
        "colab": {
          "base_uri": "https://localhost:8080/",
          "height": 437
        }
      },
      "source": [
        "hist(predichos_test)"
      ],
      "execution_count": 0,
      "outputs": [
        {
          "output_type": "display_data",
          "data": {
            "image/png": "[encoded data removed]",
            "text/plain": [
              "Plot with title “Histogram of predichos_test”"
            ]
          },
          "metadata": {
            "tags": [],
            "image/png": {
              "width": 420,
              "height": 420
            },
            "text/plain": {
              "width": 420,
              "height": 420
            }
          }
        }
      ]
    },
    {
      "cell_type": "code",
      "metadata": {
        "id": "Qypdv9YU1gcT",
        "colab_type": "code",
        "outputId": "25882d76-3eaf-485f-eb2c-46e0275eca74",
        "colab": {
          "base_uri": "https://localhost:8080/",
          "height": 137
        }
      },
      "source": [
        "RMSE <- function(pred, obs, na.rm = FALSE){\n",
        "  sqrt(mean((pred - obs)^2, na.rm = na.rm))\n",
        "}\n",
        "\n",
        "data.frame(\n",
        "  data = c(\"Train\", \"Test\"),\n",
        "  RMSE = c(RMSE(pred = predichos_train, obs = as.vector(datos_train_h2o$target_2015)),\n",
        "           RMSE(pred = predichos_test, obs = as.vector(datos_test_h2o$target_2015)))\n",
        ")"
      ],
      "execution_count": 0,
      "outputs": [
        {
          "output_type": "display_data",
          "data": {
            "text/plain": [
              "  data  RMSE     \n",
              "1 Train 0.1003845\n",
              "2 Test  0.1060405"
            ],
            "text/latex": "A data.frame: 2 × 2\n\\begin{tabular}{ll}\n data & RMSE\\\\\n <fct> & <dbl>\\\\\n\\hline\n\t Train & 0.1003845\\\\\n\t Test  & 0.1060405\\\\\n\\end{tabular}\n",
            "text/markdown": "\nA data.frame: 2 × 2\n\n| data &lt;fct&gt; | RMSE &lt;dbl&gt; |\n|---|---|\n| Train | 0.1003845 |\n| Test  | 0.1060405 |\n\n",
            "text/html": [
              "<table>\n",
              "<caption>A data.frame: 2 × 2</caption>\n",
              "<thead>\n",
              "\t<tr><th scope=col>data</th><th scope=col>RMSE</th></tr>\n",
              "\t<tr><th scope=col>&lt;fct&gt;</th><th scope=col>&lt;dbl&gt;</th></tr>\n",
              "</thead>\n",
              "<tbody>\n",
              "\t<tr><td>Train</td><td>0.1003845</td></tr>\n",
              "\t<tr><td>Test </td><td>0.1060405</td></tr>\n",
              "</tbody>\n",
              "</table>\n"
            ]
          },
          "metadata": {
            "tags": []
          }
        }
      ]
    },
    {
      "cell_type": "markdown",
      "metadata": {
        "id": "qgll-QB017-T",
        "colab_type": "text"
      },
      "source": [
        "# Predicciones 2019"
      ]
    },
    {
      "cell_type": "code",
      "metadata": {
        "id": "vIT080le196L",
        "colab_type": "code",
        "outputId": "14d59b5b-7332-45f0-8ac6-a5aa83790526",
        "colab": {
          "base_uri": "https://localhost:8080/",
          "height": 68
        }
      },
      "source": [
        "predichos_2019 <- h2o.predict(xgb, as.h2o(df_test_2019)) %>%\n",
        "  as.data.frame() %>% pull(predict)\n",
        "head(predichos_2019)"
      ],
      "execution_count": 0,
      "outputs": [
        {
          "output_type": "stream",
          "text": [
            "  |======================================================================| 100%\n",
            "  |======================================================================| 100%\n"
          ],
          "name": "stdout"
        },
        {
          "output_type": "display_data",
          "data": {
            "text/plain": [
              "[1] 0.01410912 0.01690232 0.01268599 0.01136317 0.01169489 0.01210092"
            ],
            "text/latex": "\\begin{enumerate*}\n\\item 0.0141091197729111\n\\item 0.0169023238122463\n\\item 0.0126859890297055\n\\item 0.0113631691783667\n\\item 0.0116948857903481\n\\item 0.0121009228751063\n\\end{enumerate*}\n",
            "text/markdown": "1. 0.0141091197729111\n2. 0.0169023238122463\n3. 0.0126859890297055\n4. 0.0113631691783667\n5. 0.0116948857903481\n6. 0.0121009228751063\n\n\n",
            "text/html": [
              "<style>\n",
              ".list-inline {list-style: none; margin:0; padding: 0}\n",
              ".list-inline>li {display: inline-block}\n",
              ".list-inline>li:not(:last-child)::after {content: \"\\00b7\"; padding: 0 .5ex}\n",
              "</style>\n",
              "<ol class=list-inline><li>0.0141091197729111</li><li>0.0169023238122463</li><li>0.0126859890297055</li><li>0.0113631691783667</li><li>0.0116948857903481</li><li>0.0121009228751063</li></ol>\n"
            ]
          },
          "metadata": {
            "tags": []
          }
        }
      ]
    },
    {
      "cell_type": "code",
      "metadata": {
        "id": "DVYoKtmC2OFM",
        "colab_type": "code",
        "outputId": "201c6448-45db-4af4-df46-61575ee6cd06",
        "colab": {
          "base_uri": "https://localhost:8080/",
          "height": 437
        }
      },
      "source": [
        "hist(predichos_2019)"
      ],
      "execution_count": 0,
      "outputs": [
        {
          "output_type": "display_data",
          "data": {
            "image/png": "[encoded data removed]",
            "text/plain": [
              "Plot with title “Histogram of predichos_2019”"
            ]
          },
          "metadata": {
            "tags": [],
            "image/png": {
              "width": 420,
              "height": 420
            },
            "text/plain": {
              "width": 420,
              "height": 420
            }
          }
        }
      ]
    },
    {
      "cell_type": "code",
      "metadata": {
        "id": "06jshxqS2YY0",
        "colab_type": "code",
        "outputId": "2e15238d-3250-49f2-9ea1-1557cccfae71",
        "colab": {
          "base_uri": "https://localhost:8080/",
          "height": 204
        }
      },
      "source": [
        "df_test_2019 %>% \n",
        "  select(Square_ID) %>% \n",
        "  mutate(target_2019 = predichos_2019) ->\n",
        "  predicciones42\n",
        "head(predicciones42)"
      ],
      "execution_count": 0,
      "outputs": [
        {
          "output_type": "display_data",
          "data": {
            "text/plain": [
              "  Square_ID                            target_2019\n",
              "1 4e3c3896-14ce-11ea-bce5-f49634744a41 0.01410912 \n",
              "2 4e3c3897-14ce-11ea-bce5-f49634744a41 0.01690232 \n",
              "3 4e3c3898-14ce-11ea-bce5-f49634744a41 0.01268599 \n",
              "4 4e3c3899-14ce-11ea-bce5-f49634744a41 0.01136317 \n",
              "5 4e3c389a-14ce-11ea-bce5-f49634744a41 0.01169489 \n",
              "6 4e3c389b-14ce-11ea-bce5-f49634744a41 0.01210092 "
            ],
            "text/latex": "A data.frame: 6 × 2\n\\begin{tabular}{r|ll}\n  & Square\\_ID & target\\_2019\\\\\n  & <chr> & <dbl>\\\\\n\\hline\n\t1 & 4e3c3896-14ce-11ea-bce5-f49634744a41 & 0.01410912\\\\\n\t2 & 4e3c3897-14ce-11ea-bce5-f49634744a41 & 0.01690232\\\\\n\t3 & 4e3c3898-14ce-11ea-bce5-f49634744a41 & 0.01268599\\\\\n\t4 & 4e3c3899-14ce-11ea-bce5-f49634744a41 & 0.01136317\\\\\n\t5 & 4e3c389a-14ce-11ea-bce5-f49634744a41 & 0.01169489\\\\\n\t6 & 4e3c389b-14ce-11ea-bce5-f49634744a41 & 0.01210092\\\\\n\\end{tabular}\n",
            "text/markdown": "\nA data.frame: 6 × 2\n\n| <!--/--> | Square_ID &lt;chr&gt; | target_2019 &lt;dbl&gt; |\n|---|---|---|\n| 1 | 4e3c3896-14ce-11ea-bce5-f49634744a41 | 0.01410912 |\n| 2 | 4e3c3897-14ce-11ea-bce5-f49634744a41 | 0.01690232 |\n| 3 | 4e3c3898-14ce-11ea-bce5-f49634744a41 | 0.01268599 |\n| 4 | 4e3c3899-14ce-11ea-bce5-f49634744a41 | 0.01136317 |\n| 5 | 4e3c389a-14ce-11ea-bce5-f49634744a41 | 0.01169489 |\n| 6 | 4e3c389b-14ce-11ea-bce5-f49634744a41 | 0.01210092 |\n\n",
            "text/html": [
              "<table>\n",
              "<caption>A data.frame: 6 × 2</caption>\n",
              "<thead>\n",
              "\t<tr><th></th><th scope=col>Square_ID</th><th scope=col>target_2019</th></tr>\n",
              "\t<tr><th></th><th scope=col>&lt;chr&gt;</th><th scope=col>&lt;dbl&gt;</th></tr>\n",
              "</thead>\n",
              "<tbody>\n",
              "\t<tr><th scope=row>1</th><td>4e3c3896-14ce-11ea-bce5-f49634744a41</td><td>0.01410912</td></tr>\n",
              "\t<tr><th scope=row>2</th><td>4e3c3897-14ce-11ea-bce5-f49634744a41</td><td>0.01690232</td></tr>\n",
              "\t<tr><th scope=row>3</th><td>4e3c3898-14ce-11ea-bce5-f49634744a41</td><td>0.01268599</td></tr>\n",
              "\t<tr><th scope=row>4</th><td>4e3c3899-14ce-11ea-bce5-f49634744a41</td><td>0.01136317</td></tr>\n",
              "\t<tr><th scope=row>5</th><td>4e3c389a-14ce-11ea-bce5-f49634744a41</td><td>0.01169489</td></tr>\n",
              "\t<tr><th scope=row>6</th><td>4e3c389b-14ce-11ea-bce5-f49634744a41</td><td>0.01210092</td></tr>\n",
              "</tbody>\n",
              "</table>\n"
            ]
          },
          "metadata": {
            "tags": []
          }
        }
      ]
    },
    {
      "cell_type": "code",
      "metadata": {
        "id": "PGE1TxvP2hUu",
        "colab_type": "code",
        "colab": {}
      },
      "source": [
        "write.csv(predicciones42, file = \"Submission42.csv\", row.names = FALSE)"
      ],
      "execution_count": 0,
      "outputs": []
    },
    {
      "cell_type": "markdown",
      "metadata": {
        "id": "BtGhOFah58Gr",
        "colab_type": "text"
      },
      "source": [
        "# Modelo XGB 2"
      ]
    },
    {
      "cell_type": "code",
      "metadata": {
        "id": "OVQTSX2S2tR9",
        "colab_type": "code",
        "outputId": "0d253e59-9caf-479f-bf4b-90223719333e",
        "colab": {
          "base_uri": "https://localhost:8080/",
          "height": 1000
        }
      },
      "source": [
        "# Cargando datos\n",
        "load(\"/df_test19.Rdata\")\n",
        "load(\"/df_train15.Rdata\")\n",
        "\n",
        "# Cargando  e iniciando h2o\n",
        "library(h2o)\n",
        "h2o.init(nthreads = -1, port = 54321, max_mem_size = \"10g\")\n",
        "\n",
        "# Cargando tidyverse\n",
        "library(tidyverse)\n",
        "  \n",
        "# Train y Test h2o\n",
        "df_train %>% \n",
        "  select(target_2015, elevation, rugos_near8, TRI_near8, LC_Type1,\n",
        "         slope_near8, lat, long, TPI_near8, de_prec,\n",
        "         ric_prec, PS7, PS9, PS12, PS17) %>% \n",
        "  mutate_each(funs(replace(., which(is.na(.)), mean(., na.rm=TRUE)))) ->\n",
        "  df_train2\n",
        "\n",
        "# Datos h2o\n",
        "datos_h2o <- as.h2o(x = df_train2, destination_frame = \"datos_h2o\")\n",
        "\n",
        "particiones <- h2o.splitFrame(data = datos_h2o, ratios = c(0.7, 0.10),\n",
        "                              seed = 123)\n",
        "datos_train_h2o <- h2o.assign(data = particiones[[1]], key = \"datos_train_H2O\")\n",
        "datos_val_h2o   <- h2o.assign(data = particiones[[2]], key = \"datos_val_H2O\")\n",
        "datos_test_h2o  <- h2o.assign(data = particiones[[3]], key = \"datos_test_H2O\")\n",
        "\n",
        "# Se define la variable respuesta y los predictores.\n",
        "var_respuesta <- \"target_2015\"\n",
        "\n",
        "# Para este modelo se emplean todos los predictores disponibles.\n",
        "predictores   <- setdiff(h2o.colnames(datos_train_h2o), var_respuesta)\n",
        "\n",
        "\n",
        "xgb2 <- h2o.xgboost(x = predictores\n",
        "                  ,y = var_respuesta\n",
        "                  ,training_frame = datos_train_h2o\n",
        "                  ,validation_frame = datos_val_h2o\n",
        "                  ,model_id = \"xgb_model_2\"\n",
        "                  ,stopping_rounds = 3\n",
        "                  ,stopping_metric = \"RMSE\"\n",
        "                  ,distribution = \"poisson\"\n",
        "                  ,score_tree_interval = 1\n",
        "                  ,learn_rate=0.01\n",
        "                  ,ntrees=500\n",
        "                  ,subsample = 0.75\n",
        "                  ,colsample_bytree = 0.75\n",
        "                  ,tree_method = \"hist\"\n",
        "                  ,grow_policy = \"lossguide\"\n",
        "                  ,booster = \"gbtree\"\n",
        "                  ,gamma = 0.0\n",
        "                  ,max_runtime_secs = 3600\n",
        "                  ,nfolds = 10\n",
        "                  ,seed = 123\n",
        "                  )"
      ],
      "execution_count": 4,
      "outputs": [
        {
          "output_type": "stream",
          "text": [
            "\n",
            "----------------------------------------------------------------------\n",
            "\n",
            "Your next step is to start H2O:\n",
            "    > h2o.init()\n",
            "\n",
            "For H2O package documentation, ask for help:\n",
            "    > ??h2o\n",
            "\n",
            "After starting H2O, you can use the Web UI at http://localhost:54321\n",
            "For more information visit http://docs.h2o.ai\n",
            "\n",
            "----------------------------------------------------------------------\n",
            "\n",
            "\n",
            "\n",
            "Attaching package: ‘h2o’\n",
            "\n",
            "\n",
            "The following objects are masked from ‘package:stats’:\n",
            "\n",
            "    cor, sd, var\n",
            "\n",
            "\n",
            "The following objects are masked from ‘package:base’:\n",
            "\n",
            "    &&, %*%, %in%, ||, apply, as.factor, as.numeric, colnames,\n",
            "    colnames<-, ifelse, is.character, is.factor, is.numeric, log,\n",
            "    log10, log1p, log2, round, signif, trunc\n",
            "\n",
            "\n"
          ],
          "name": "stderr"
        },
        {
          "output_type": "stream",
          "text": [
            "\n",
            "H2O is not running yet, starting it now...\n",
            "\n",
            "Note:  In case of errors look at the following log files:\n",
            "    /tmp/RtmpNtV2Tq/file79789588e6/h2o_UnknownUser_started_from_r.out\n",
            "    /tmp/RtmpNtV2Tq/file795292f0d5/h2o_UnknownUser_started_from_r.err\n",
            "\n",
            "\n",
            "Starting H2O JVM and connecting: .. Connection successful!\n",
            "\n",
            "R is connected to the H2O cluster: \n",
            "    H2O cluster uptime:         2 seconds 831 milliseconds \n",
            "    H2O cluster timezone:       Etc/UTC \n",
            "    H2O data parsing timezone:  UTC \n",
            "    H2O cluster version:        3.30.0.1 \n",
            "    H2O cluster version age:    6 days  \n",
            "    H2O cluster name:           H2O_started_from_R_root_njm915 \n",
            "    H2O cluster total nodes:    1 \n",
            "    H2O cluster total memory:   10.00 GB \n",
            "    H2O cluster total cores:    2 \n",
            "    H2O cluster allowed cores:  2 \n",
            "    H2O cluster healthy:        TRUE \n",
            "    H2O Connection ip:          localhost \n",
            "    H2O Connection port:        54321 \n",
            "    H2O Connection proxy:       NA \n",
            "    H2O Internal Security:      FALSE \n",
            "    H2O API Extensions:         Amazon S3, XGBoost, Algos, AutoML, Core V3, TargetEncoder, Core V4 \n",
            "    R Version:                  R version 3.6.3 (2020-02-29) \n",
            "\n"
          ],
          "name": "stdout"
        },
        {
          "output_type": "stream",
          "text": [
            "── \u001b[1mAttaching packages\u001b[22m ─────────────────────────────────────── tidyverse 1.3.0 ──\n",
            "\n",
            "\u001b[32m✔\u001b[39m \u001b[34mggplot2\u001b[39m 3.3.0     \u001b[32m✔\u001b[39m \u001b[34mpurrr  \u001b[39m 0.3.3\n",
            "\u001b[32m✔\u001b[39m \u001b[34mtibble \u001b[39m 3.0.0     \u001b[32m✔\u001b[39m \u001b[34mdplyr  \u001b[39m 0.8.5\n",
            "\u001b[32m✔\u001b[39m \u001b[34mtidyr  \u001b[39m 1.0.2     \u001b[32m✔\u001b[39m \u001b[34mstringr\u001b[39m 1.4.0\n",
            "\u001b[32m✔\u001b[39m \u001b[34mreadr  \u001b[39m 1.3.1     \u001b[32m✔\u001b[39m \u001b[34mforcats\u001b[39m 0.5.0\n",
            "\n",
            "── \u001b[1mConflicts\u001b[22m ────────────────────────────────────────── tidyverse_conflicts() ──\n",
            "\u001b[31m✖\u001b[39m \u001b[34mdplyr\u001b[39m::\u001b[32mfilter()\u001b[39m masks \u001b[34mstats\u001b[39m::filter()\n",
            "\u001b[31m✖\u001b[39m \u001b[34mdplyr\u001b[39m::\u001b[32mlag()\u001b[39m    masks \u001b[34mstats\u001b[39m::lag()\n",
            "\n",
            "Warning message:\n",
            "“funs() is soft deprecated as of dplyr 0.8.0\n",
            "Please use a list of either functions or lambdas: \n",
            "\n",
            "  # Simple named list: \n",
            "  list(mean = mean, median = median)\n",
            "\n",
            "  # Auto named with `tibble::lst()`: \n",
            "  tibble::lst(mean, median)\n",
            "\n",
            "  # Using lambdas\n",
            "  list(~ mean(., trim = .2), ~ median(., na.rm = TRUE))\n",
            "\u001b[90mThis warning is displayed once per session.\u001b[39m”\n",
            "Warning message in mean.default(LC_Type1, na.rm = TRUE):\n",
            "“argument is not numeric or logical: returning NA”\n",
            "Warning message in mean.default(LC_Type1, na.rm = TRUE):\n",
            "“argument is not numeric or logical: returning NA”\n"
          ],
          "name": "stderr"
        },
        {
          "output_type": "stream",
          "text": [
            "  |======================================================================| 100%\n",
            "  |======================================================================| 100%\n"
          ],
          "name": "stdout"
        }
      ]
    },
    {
      "cell_type": "code",
      "metadata": {
        "id": "GA7unxBW9c7E",
        "colab_type": "code",
        "colab": {
          "base_uri": "https://localhost:8080/",
          "height": 454
        },
        "outputId": "ad6e9fd7-e382-4dfe-91e9-4ed473957de6"
      },
      "source": [
        "predichos_train <- h2o.predict(xgb2, datos_train_h2o) %>%\n",
        "  as.data.frame() %>% pull(predict)\n",
        "hist(predichos_train)"
      ],
      "execution_count": 5,
      "outputs": [
        {
          "output_type": "stream",
          "text": [
            "  |======================================================================| 100%\n"
          ],
          "name": "stdout"
        },
        {
          "output_type": "display_data",
          "data": {
            "image/png": "[encoded data removed]",
            "text/plain": [
              "Plot with title “Histogram of predichos_train”"
            ]
          },
          "metadata": {
            "tags": [],
            "image/png": {
              "width": 420,
              "height": 420
            },
            "text/plain": {
              "width": 420,
              "height": 420
            }
          }
        }
      ]
    },
    {
      "cell_type": "code",
      "metadata": {
        "id": "KLPMRMcs9jes",
        "colab_type": "code",
        "colab": {
          "base_uri": "https://localhost:8080/",
          "height": 454
        },
        "outputId": "145febc6-781f-44fd-d336-d0c199ec713d"
      },
      "source": [
        "predichos_test <- h2o.predict(xgb2, datos_test_h2o) %>%\n",
        "  as.data.frame() %>% pull(predict)\n",
        "hist(predichos_test)"
      ],
      "execution_count": 6,
      "outputs": [
        {
          "output_type": "stream",
          "text": [
            "  |======================================================================| 100%\n"
          ],
          "name": "stdout"
        },
        {
          "output_type": "display_data",
          "data": {
            "image/png": "[encoded data removed]",
            "text/plain": [
              "Plot with title “Histogram of predichos_test”"
            ]
          },
          "metadata": {
            "tags": [],
            "image/png": {
              "width": 420,
              "height": 420
            },
            "text/plain": {
              "width": 420,
              "height": 420
            }
          }
        }
      ]
    },
    {
      "cell_type": "code",
      "metadata": {
        "id": "X-BelnEE93eM",
        "colab_type": "code",
        "colab": {
          "base_uri": "https://localhost:8080/",
          "height": 137
        },
        "outputId": "9766750a-9708-42f9-dd3a-0708eb5f165e"
      },
      "source": [
        "RMSE <- function(pred, obs, na.rm = FALSE){\n",
        "  sqrt(mean((pred - obs)^2, na.rm = na.rm))\n",
        "}\n",
        "\n",
        "data.frame(\n",
        "  data = c(\"Train\", \"Test\"),\n",
        "  RMSE = c(RMSE(pred = predichos_train, obs = as.vector(datos_train_h2o$target_2015)),\n",
        "           RMSE(pred = predichos_test, obs = as.vector(datos_test_h2o$target_201)))\n",
        ")"
      ],
      "execution_count": 9,
      "outputs": [
        {
          "output_type": "display_data",
          "data": {
            "text/plain": [
              "  data  RMSE     \n",
              "1 Train 0.1038722\n",
              "2 Test  0.1103700"
            ],
            "text/latex": "A data.frame: 2 × 2\n\\begin{tabular}{ll}\n data & RMSE\\\\\n <fct> & <dbl>\\\\\n\\hline\n\t Train & 0.1038722\\\\\n\t Test  & 0.1103700\\\\\n\\end{tabular}\n",
            "text/markdown": "\nA data.frame: 2 × 2\n\n| data &lt;fct&gt; | RMSE &lt;dbl&gt; |\n|---|---|\n| Train | 0.1038722 |\n| Test  | 0.1103700 |\n\n",
            "text/html": [
              "<table>\n",
              "<caption>A data.frame: 2 × 2</caption>\n",
              "<thead>\n",
              "\t<tr><th scope=col>data</th><th scope=col>RMSE</th></tr>\n",
              "\t<tr><th scope=col>&lt;fct&gt;</th><th scope=col>&lt;dbl&gt;</th></tr>\n",
              "</thead>\n",
              "<tbody>\n",
              "\t<tr><td>Train</td><td>0.1038722</td></tr>\n",
              "\t<tr><td>Test </td><td>0.1103700</td></tr>\n",
              "</tbody>\n",
              "</table>\n"
            ]
          },
          "metadata": {
            "tags": []
          }
        }
      ]
    },
    {
      "cell_type": "code",
      "metadata": {
        "id": "ZdIqkTUa-t6D",
        "colab_type": "code",
        "colab": {
          "base_uri": "https://localhost:8080/",
          "height": 471
        },
        "outputId": "0a2db8b3-1e37-4c95-e6cb-d7d39d30dd18"
      },
      "source": [
        "predichos_2019 <- h2o.predict(xgb2, as.h2o(df_test2)) %>%\n",
        "  as.data.frame() %>% pull(predict)\n",
        "hist(predichos_2019)"
      ],
      "execution_count": 11,
      "outputs": [
        {
          "output_type": "stream",
          "text": [
            "  |======================================================================| 100%\n",
            "  |======================================================================| 100%\n"
          ],
          "name": "stdout"
        },
        {
          "output_type": "display_data",
          "data": {
            "image/png": "[encoded data removed]",
            "text/plain": [
              "Plot with title “Histogram of predichos_2019”"
            ]
          },
          "metadata": {
            "tags": [],
            "image/png": {
              "width": 420,
              "height": 420
            },
            "text/plain": {
              "width": 420,
              "height": 420
            }
          }
        }
      ]
    },
    {
      "cell_type": "code",
      "metadata": {
        "id": "qgLExmiv-yed",
        "colab_type": "code",
        "colab": {
          "base_uri": "https://localhost:8080/",
          "height": 675
        },
        "outputId": "b3a90d3f-e8f5-447b-da75-06d133f95fa6"
      },
      "source": [
        "df_test %>% \n",
        "  mutate_each(funs(replace(., which(is.na(.)), mean(., na.rm=TRUE)))) ->\n",
        "  df_test2\n",
        "df_test2 %>% \n",
        "  select(Square_ID) %>% \n",
        "  mutate(target_2019 = predichos_2019) ->\n",
        "  predicciones44\n",
        "hist(predicciones44$target_2019) "
      ],
      "execution_count": 14,
      "outputs": [
        {
          "output_type": "stream",
          "text": [
            "Warning message in mean.default(LC_Type1, na.rm = TRUE):\n",
            "“argument is not numeric or logical: returning NA”\n",
            "Warning message in mean.default(Square_ID, na.rm = TRUE):\n",
            "“argument is not numeric or logical: returning NA”\n",
            "Warning message in mean.default(flood_15, na.rm = TRUE):\n",
            "“argument is not numeric or logical: returning NA”\n",
            "Warning message in mean.default(long_factor, na.rm = TRUE):\n",
            "“argument is not numeric or logical: returning NA”\n",
            "Warning message in mean.default(lat_factor, na.rm = TRUE):\n",
            "“argument is not numeric or logical: returning NA”\n",
            "Warning message in mean.default(elev_factor, na.rm = TRUE):\n",
            "“argument is not numeric or logical: returning NA”\n",
            "Warning message in mean.default(var_prec, na.rm = TRUE):\n",
            "“argument is not numeric or logical: returning NA”\n"
          ],
          "name": "stderr"
        },
        {
          "output_type": "display_data",
          "data": {
            "image/png": "[encoded data removed]",
            "text/plain": [
              "Plot with title “Histogram of predicciones44$target_2019”"
            ]
          },
          "metadata": {
            "tags": [],
            "image/png": {
              "width": 420,
              "height": 420
            },
            "text/plain": {
              "width": 420,
              "height": 420
            }
          }
        }
      ]
    },
    {
      "cell_type": "code",
      "metadata": {
        "id": "HAEsQLvc-9y1",
        "colab_type": "code",
        "colab": {}
      },
      "source": [
        "write.csv(predicciones44, file = \"Submission44.csv\", row.names = FALSE)"
      ],
      "execution_count": 0,
      "outputs": []
    },
    {
      "cell_type": "markdown",
      "metadata": {
        "id": "UYkcyBASC9X8",
        "colab_type": "text"
      },
      "source": [
        "# XGB 3"
      ]
    },
    {
      "cell_type": "code",
      "metadata": {
        "id": "Bxj6XcDXDCs1",
        "colab_type": "code",
        "colab": {
          "base_uri": "https://localhost:8080/",
          "height": 1000
        },
        "outputId": "7b022cdb-77c3-4175-b5b7-7f0206871abf"
      },
      "source": [
        "# Cargando datos\n",
        "load(\"/df_test19.Rdata\")\n",
        "load(\"/df_train15.Rdata\")\n",
        "\n",
        "# Cargando  e iniciando h2o\n",
        "library(h2o)\n",
        "h2o.init(nthreads = -1, port = 54321, max_mem_size = \"10g\")\n",
        "\n",
        "# Cargando tidyverse\n",
        "library(tidyverse)\n",
        "  \n",
        "# Train y Test h2o\n",
        "df_train %>% \n",
        "  select(-Square_ID, -flood_15) %>% \n",
        "  mutate_each(funs(replace(., which(is.na(.)), mean(., na.rm=TRUE)))) ->\n",
        "  df_train2\n",
        "\n",
        " df_test %>% \n",
        "  mutate_each(funs(replace(., which(is.na(.)), mean(., na.rm=TRUE)))) ->\n",
        "  df_test2 \n",
        "\n",
        "# Datos h2o\n",
        "datos_h2o <- as.h2o(x = df_train2, destination_frame = \"datos_h2o\")\n",
        "\n",
        "particiones <- h2o.splitFrame(data = datos_h2o, ratios = c(0.6, 0.20),\n",
        "                              seed = 123)\n",
        "datos_train_h2o <- h2o.assign(data = particiones[[1]], key = \"datos_train_H2O\")\n",
        "datos_val_h2o   <- h2o.assign(data = particiones[[2]], key = \"datos_val_H2O\")\n",
        "datos_test_h2o  <- h2o.assign(data = particiones[[3]], key = \"datos_test_H2O\")\n",
        "\n",
        "# Se define la variable respuesta y los predictores.\n",
        "var_respuesta <- \"target_2015\"\n",
        "\n",
        "# Para este modelo se emplean todos los predictores disponibles.\n",
        "predictores   <- setdiff(h2o.colnames(datos_train_h2o), var_respuesta)\n",
        "\n",
        "\n",
        "xgb3 <- h2o.xgboost(x = predictores\n",
        "                  ,y = var_respuesta\n",
        "                  ,training_frame = datos_train_h2o\n",
        "                  ,validation_frame = datos_val_h2o\n",
        "                  ,model_id = \"xgb_model_3\"\n",
        "                  ,stopping_rounds = 3\n",
        "                  ,stopping_metric = \"RMSE\"\n",
        "                  ,distribution = \"poisson\"\n",
        "                  ,score_tree_interval = 1\n",
        "                  ,learn_rate=0.03\n",
        "                  ,ntrees=1000\n",
        "                  ,subsample = 0.8\n",
        "                  ,colsample_bytree = 0.8\n",
        "                  ,tree_method = \"hist\"\n",
        "                  ,grow_policy = \"lossguide\"\n",
        "                  ,booster = \"gbtree\"\n",
        "                  ,gamma = 0.001,\n",
        "                  ,max_depth = 5, #default =  6\n",
        "                  ,nfolds = 10,\n",
        "                  ,reg_lambda = 0.5\n",
        "                  ,reg_alpha = 0.5\n",
        "                  ,seed = 123\n",
        "                  )\n",
        "\n",
        "predichos_2019 <- h2o.predict(xgb3, as.h2o(df_test2)) %>%\n",
        "  as.data.frame() %>% pull(predict)\n",
        "\n",
        "df_test2 %>% \n",
        "  select(Square_ID) %>% \n",
        "  mutate(target_2019 = predichos_2019) ->\n",
        "  predicciones45\n",
        "hist(predicciones45$target_2019) "
      ],
      "execution_count": 19,
      "outputs": [
        {
          "output_type": "stream",
          "text": [
            " Connection successful!\n",
            "\n",
            "R is connected to the H2O cluster: \n",
            "    H2O cluster uptime:         34 minutes 29 seconds \n",
            "    H2O cluster timezone:       Etc/UTC \n",
            "    H2O data parsing timezone:  UTC \n",
            "    H2O cluster version:        3.30.0.1 \n",
            "    H2O cluster version age:    6 days  \n",
            "    H2O cluster name:           H2O_started_from_R_root_njm915 \n",
            "    H2O cluster total nodes:    1 \n",
            "    H2O cluster total memory:   9.92 GB \n",
            "    H2O cluster total cores:    2 \n",
            "    H2O cluster allowed cores:  2 \n",
            "    H2O cluster healthy:        TRUE \n",
            "    H2O Connection ip:          localhost \n",
            "    H2O Connection port:        54321 \n",
            "    H2O Connection proxy:       NA \n",
            "    H2O Internal Security:      FALSE \n",
            "    H2O API Extensions:         Amazon S3, XGBoost, Algos, AutoML, Core V3, TargetEncoder, Core V4 \n",
            "    R Version:                  R version 3.6.3 (2020-02-29) \n",
            "\n"
          ],
          "name": "stdout"
        },
        {
          "output_type": "stream",
          "text": [
            "Warning message in mean.default(LC_Type1, na.rm = TRUE):\n",
            "“argument is not numeric or logical: returning NA”\n",
            "Warning message in mean.default(long_factor, na.rm = TRUE):\n",
            "“argument is not numeric or logical: returning NA”\n",
            "Warning message in mean.default(lat_factor, na.rm = TRUE):\n",
            "“argument is not numeric or logical: returning NA”\n",
            "Warning message in mean.default(elev_factor, na.rm = TRUE):\n",
            "“argument is not numeric or logical: returning NA”\n",
            "Warning message in mean.default(var_prec, na.rm = TRUE):\n",
            "“argument is not numeric or logical: returning NA”\n",
            "Warning message in mean.default(LC_Type1, na.rm = TRUE):\n",
            "“argument is not numeric or logical: returning NA”\n",
            "Warning message in mean.default(Square_ID, na.rm = TRUE):\n",
            "“argument is not numeric or logical: returning NA”\n",
            "Warning message in mean.default(flood_15, na.rm = TRUE):\n",
            "“argument is not numeric or logical: returning NA”\n",
            "Warning message in mean.default(long_factor, na.rm = TRUE):\n",
            "“argument is not numeric or logical: returning NA”\n",
            "Warning message in mean.default(lat_factor, na.rm = TRUE):\n",
            "“argument is not numeric or logical: returning NA”\n",
            "Warning message in mean.default(elev_factor, na.rm = TRUE):\n",
            "“argument is not numeric or logical: returning NA”\n",
            "Warning message in mean.default(var_prec, na.rm = TRUE):\n",
            "“argument is not numeric or logical: returning NA”\n"
          ],
          "name": "stderr"
        },
        {
          "output_type": "stream",
          "text": [
            "  |======================================================================| 100%\n",
            "  |======================================================================| 100%\n",
            "  |======================================================================| 100%\n",
            "  |======================================================================| 100%\n"
          ],
          "name": "stdout"
        },
        {
          "output_type": "display_data",
          "data": {
            "image/png": "[encoded data removed]",
            "text/plain": [
              "Plot with title “Histogram of predicciones45$target_2019”"
            ]
          },
          "metadata": {
            "tags": [],
            "image/png": {
              "width": 420,
              "height": 420
            },
            "text/plain": {
              "width": 420,
              "height": 420
            }
          }
        }
      ]
    },
    {
      "cell_type": "code",
      "metadata": {
        "id": "rkwBiHfFGSnc",
        "colab_type": "code",
        "colab": {}
      },
      "source": [
        "write.csv(predicciones45, file = \"Submission45.csv\", row.names = FALSE)"
      ],
      "execution_count": 0,
      "outputs": []
    },
    {
      "cell_type": "markdown",
      "metadata": {
        "id": "Gydno-5rGsSQ",
        "colab_type": "text"
      },
      "source": [
        "# Grid XGB con todas las variables"
      ]
    },
    {
      "cell_type": "code",
      "metadata": {
        "id": "4EZl9BkYGu1H",
        "colab_type": "code",
        "colab": {}
      },
      "source": [
        ""
      ],
      "execution_count": 0,
      "outputs": []
    }
  ]
}